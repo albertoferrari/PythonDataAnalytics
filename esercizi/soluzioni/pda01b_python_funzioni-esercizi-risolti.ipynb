{
 "cells": [
  {
   "cell_type": "markdown",
   "metadata": {},
   "source": [
    "> *Alberto Ferrari* - [github](https://albertoferrari.github.io/)"
   ]
  },
  {
   "cell_type": "markdown",
   "metadata": {},
   "source": [
    "### esercizio\n",
    "La sezione aurea è definita come\n",
    "$ \\phi= \\frac{b}{a}=\\frac{a+b}{b}= (1+\\sqrt{5})/2 $\n",
    "visualizzare il valore della sezione aurea"
   ]
  },
  {
   "cell_type": "code",
   "execution_count": 5,
   "metadata": {},
   "outputs": [
    {
     "name": "stdout",
     "output_type": "stream",
     "text": [
      "sezione aurea 1.618033988749895\n"
     ]
    }
   ],
   "source": [
    "import math\n",
    "\n",
    "print(\"sezione aurea\",(1 + math.sqrt(5)) / 2)"
   ]
  },
  {
   "cell_type": "markdown",
   "metadata": {},
   "source": [
    "### esercizio\n",
    "Scrivere la funzione primo che riceve come parametro un numero intero (sicuramente positivo) e restituisce True se questo è primo.\n",
    "Utilizzare la funzione per rispondere alla seguente domanda: quali dei seguenti numeri sono primi? \n",
    "96553  15983567 17 \t(Risposta: il primo e il terzo)\n",
    "\n",
    "<i>La funzione deve avere una docstring significativa</i>"
   ]
  },
  {
   "cell_type": "code",
   "execution_count": 2,
   "metadata": {},
   "outputs": [
    {
     "name": "stdout",
     "output_type": "stream",
     "text": [
      "False\n"
     ]
    }
   ],
   "source": [
    "def primo(n: int) -> bool:\n",
    "    ''' True se n è primo '''\n",
    "    for d in range(2, n//2 + 1):\n",
    "        if n % d == 0:\n",
    "            return False\n",
    "    return True\n",
    "    \n",
    "print(primo(15983567))"
   ]
  },
  {
   "cell_type": "markdown",
   "metadata": {},
   "source": [
    "### esercizio\n",
    "Visualizzare la docstring della funzione precedentemente creata"
   ]
  },
  {
   "cell_type": "code",
   "execution_count": 8,
   "metadata": {},
   "outputs": [
    {
     "name": "stdout",
     "output_type": "stream",
     "text": [
      "Help on function primo in module __main__:\n",
      "\n",
      "primo(n: int) -> bool\n",
      "    True se n è primo\n",
      "\n"
     ]
    }
   ],
   "source": [
    "help(primo)"
   ]
  },
  {
   "cell_type": "markdown",
   "metadata": {},
   "source": [
    "### esercizio\n",
    "Scrivere la funzione volume che riceve come parametri le misure degli spigoli di un parallelepipedo rettangolo e restituisce il volume. Scrivere un programma che richiede in input le misure di un parallelepipedo rettangolo e, utilizzando la funzione volume stampa il volume."
   ]
  },
  {
   "cell_type": "code",
   "execution_count": 21,
   "metadata": {},
   "outputs": [
    {
     "name": "stdout",
     "output_type": "stream",
     "text": [
      "spigolo 1: 2\n",
      "spigolo 2: 3\n",
      "spigolo 3: 4\n",
      "volume del parallelepipedo = 24.0\n"
     ]
    }
   ],
   "source": [
    "def volume(x: float, y: float, z: float) -> float:\n",
    "    ''' volume parallelepipedo rettangolo '''\n",
    "    return x * y * z\n",
    "s1 = float(input('spigolo 1: '))\n",
    "s2 = float(input('spigolo 2: '))\n",
    "s3 = float(input('spigolo 3: '))\n",
    "print('volume del parallelepipedo =',volume(s1,s2,s3))"
   ]
  },
  {
   "cell_type": "code",
   "execution_count": 22,
   "metadata": {},
   "outputs": [
    {
     "name": "stdout",
     "output_type": "stream",
     "text": [
      "Help on function volume in module __main__:\n",
      "\n",
      "volume(x: float, y: float, z: float) -> float\n",
      "    volume parallelepipedo rettangolo\n",
      "\n"
     ]
    }
   ],
   "source": [
    "help(volume)"
   ]
  },
  {
   "cell_type": "markdown",
   "metadata": {},
   "source": [
    "### esercizio\n",
    "Generare 10 numeri casuali nell’intervallo [10,100] e, per ognuno di questi, visualizzare tutti i suoi divisori primi<br>\n",
    "<i>The randint(start, stop) includes both start and stop numbers while generating random integer</i><br>\n",
    "iniziare con\n",
    "from random import randint"
   ]
  },
  {
   "cell_type": "code",
   "execution_count": 27,
   "metadata": {},
   "outputs": [
    {
     "name": "stdout",
     "output_type": "stream",
     "text": [
      "valore generato: 10\n",
      "2 è divisore primo di 10\n",
      "5 è divisore primo di 10\n",
      "valore generato: 49\n",
      "7 è divisore primo di 49\n",
      "valore generato: 98\n",
      "2 è divisore primo di 98\n",
      "7 è divisore primo di 98\n",
      "valore generato: 39\n",
      "3 è divisore primo di 39\n",
      "valore generato: 62\n",
      "2 è divisore primo di 62\n",
      "valore generato: 29\n",
      "valore generato: 40\n",
      "2 è divisore primo di 40\n",
      "5 è divisore primo di 40\n",
      "valore generato: 24\n",
      "2 è divisore primo di 24\n",
      "3 è divisore primo di 24\n",
      "valore generato: 74\n",
      "2 è divisore primo di 74\n",
      "valore generato: 71\n",
      "valore generato: 99\n",
      "3 è divisore primo di 99\n"
     ]
    }
   ],
   "source": [
    "from random import randint\n",
    "def primo(n: int) -> bool:\n",
    "    ''' True se n è primo '''\n",
    "    if n <= 0:\n",
    "        return False        # non accettabile\n",
    "    div = 2                 # primo divisore\n",
    "    while div <= n / 2:\n",
    "        if n % div == 0:\n",
    "            return False\n",
    "        div += 1\n",
    "    return True\n",
    "    \n",
    "c = 0                       # numero valori generati\n",
    "while c <= 10:\n",
    "    v = randint(10,100)         # valore casuale\n",
    "    print('valore generato:',v)\n",
    "    d = 2                       # possibile divisore di v\n",
    "    while d <= n/2:\n",
    "        if v % d == 0 and primo(d):\n",
    "            print(d,'è divisore primo di',v)\n",
    "        d += 1\n",
    "    c += 1"
   ]
  },
  {
   "cell_type": "markdown",
   "metadata": {},
   "source": [
    "### esercizio\n",
    "funzione che trova tutti i fattori primi di un numero n\n",
    "- parametro: n\n",
    "- risultato: lista, contenente i fattori primi di n\n",
    "\n",
    "algoritmo: scorrere tutti i valori d'interesse, e cercare i divisori\n",
    "- x è divisore di n sse n % x == 0\n",
    "\n",
    "non considerare i fattori non primi\n",
    "\n",
    "provare la funzione con valori inseriti dall'utente quando si trova un divisore x, dividere ripetutamente n per x, finché resta divisibile "
   ]
  },
  {
   "cell_type": "code",
   "execution_count": 4,
   "metadata": {},
   "outputs": [
    {
     "name": "stdout",
     "output_type": "stream",
     "text": [
      "valore intero positivo: 150\n",
      "fattori primi di 150 [2, 3, 5]\n"
     ]
    }
   ],
   "source": [
    "def fattori_primi(n: int) -> list:\n",
    "    ''' restituisce una lista con i fattori primi di n '''\n",
    "    fp = []        # fattori primi di n\n",
    "    for d in range(2,n//2+1):\n",
    "        if n % d == 0 and primo(d):\n",
    "            fp.append(d)\n",
    "    return fp\n",
    "\n",
    "v = int(input('valore intero positivo: '))\n",
    "print('fattori primi di',v,fattori_primi(v))"
   ]
  }
 ],
 "metadata": {
  "kernelspec": {
   "display_name": "Python 3",
   "language": "python",
   "name": "python3"
  },
  "language_info": {
   "codemirror_mode": {
    "name": "ipython",
    "version": 3
   },
   "file_extension": ".py",
   "mimetype": "text/x-python",
   "name": "python",
   "nbconvert_exporter": "python",
   "pygments_lexer": "ipython3",
   "version": "3.8.5"
  }
 },
 "nbformat": 4,
 "nbformat_minor": 4
}
