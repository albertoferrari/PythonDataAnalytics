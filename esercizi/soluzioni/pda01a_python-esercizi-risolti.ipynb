{
 "cells": [
  {
   "cell_type": "markdown",
   "metadata": {},
   "source": [
    "> *Alberto Ferrari* - [github](https://albertoferrari.github.io/)"
   ]
  },
  {
   "cell_type": "markdown",
   "metadata": {},
   "source": [
    "### esercizio\n",
    "Dati due valori interi, fornire come risultato il quadrato della loro differenza"
   ]
  },
  {
   "cell_type": "code",
   "execution_count": 2,
   "metadata": {},
   "outputs": [
    {
     "name": "stdout",
     "output_type": "stream",
     "text": [
      "il quadrato della differenza fra 12 e 23 è 121\n"
     ]
    }
   ],
   "source": [
    "x = 12\n",
    "y = 23\n",
    "\n",
    "risultato = (x-y) ** 2\n",
    "\n",
    "print(\"il quadrato della differenza fra\",x,\"e\",y,\"è\", risultato)"
   ]
  },
  {
   "cell_type": "markdown",
   "metadata": {},
   "source": [
    " ### esercizio\n",
    " Dato il perimetro di un quadrato, fornire come risultato il valore del lato e dell’area"
   ]
  },
  {
   "cell_type": "code",
   "execution_count": 3,
   "metadata": {},
   "outputs": [
    {
     "name": "stdout",
     "output_type": "stream",
     "text": [
      "perimetro del quadrato: 120\n",
      "il quadrato con perimetro 120.0\n",
      "ha il lato lungo 30.0\n",
      "e l'area di superficie 900.0\n"
     ]
    }
   ],
   "source": [
    "# input\n",
    "perimetro = float(input(\"perimetro del quadrato: \"))\n",
    "# elaborazione\n",
    "lato = perimetro / 4\n",
    "area = lato ** 2\n",
    "#output\n",
    "print(\"il quadrato con perimetro\",perimetro)\n",
    "print(\"ha il lato lungo\",lato)\n",
    "print(\"e l'area di superficie\", area)"
   ]
  },
  {
   "cell_type": "markdown",
   "metadata": {},
   "source": [
    "### esercizio\n",
    "Il gallone liquido americano è definito come 231 pollici cubi e corrisponde a circa 3,785 litri. Un gallone imperiale è equivalente a circa 1,2 galloni americani liquidi. Il gallone americano secco è una misura storicamente applicata ad un volume di grano o altri prodotti secchi<br>\n",
    "Data una quantità di litri fornire la quantità equivalente in galloni americani e galloni imperiali"
   ]
  },
  {
   "cell_type": "code",
   "execution_count": 5,
   "metadata": {},
   "outputs": [
    {
     "name": "stdout",
     "output_type": "stream",
     "text": [
      "litri: 100\n",
      "galloni imperiali 31.700646282977807\n",
      "galloni americani 26.41720523581484\n"
     ]
    }
   ],
   "source": [
    "# input - inserimento dei dati\n",
    "litri = float(input(\"litri: \"))\n",
    "\n",
    "# elaborazione - corpo del programma \n",
    "galUSA = litri / 3.785411784\n",
    "galImp = galUSA * 1.2\n",
    "\n",
    "# output - comunico i risultati\n",
    "print(\"galloni imperiali\",galImp)\n",
    "print(\"galloni americani\",galUSA)"
   ]
  },
  {
   "cell_type": "markdown",
   "metadata": {},
   "source": [
    "### esercizio\n",
    "Si ricevono in input due numeri interi positivi determinare se il maggiore dei due è multiplo del minore"
   ]
  },
  {
   "cell_type": "code",
   "execution_count": 8,
   "metadata": {},
   "outputs": [
    {
     "name": "stdout",
     "output_type": "stream",
     "text": [
      "primo   valore: 2\n",
      "secondo valore: 12\n",
      "12 è multiplo di 2\n"
     ]
    }
   ],
   "source": [
    "a = int(input('primo   valore: '))\n",
    "b = int(input('secondo valore: '))\n",
    "if a >= b and a % b == 0:\n",
    "    print(a,'è multiplo di',b)\n",
    "elif b % a == 0:\n",
    "    print(b,'è multiplo di',a)\n",
    "else:\n",
    "    print('il maggiore dei due non è multiplo del minore')"
   ]
  },
  {
   "cell_type": "code",
   "execution_count": 9,
   "metadata": {},
   "outputs": [
    {
     "name": "stdout",
     "output_type": "stream",
     "text": [
      "primo   valore: 12\n",
      "secondo valore: 3\n",
      "12 è multiplo di 3\n"
     ]
    }
   ],
   "source": [
    "a = int(input('primo   valore: '))\n",
    "b = int(input('secondo valore: '))\n",
    "if b > a:\n",
    "    if b % a == 0:\n",
    "        print(b,'è multiplo di',a)\n",
    "else:\n",
    "    if a % b == 0:\n",
    "        print(a,'è multiplo di',b)"
   ]
  },
  {
   "cell_type": "markdown",
   "metadata": {},
   "source": [
    "### esercizio\n",
    "Una società immobiliare vende appartamenti con prezzi al metro quadro dipendenti dalla distanza dal mare: 1800 euro per distanze inferiori a 200 metri, 1500 euro per distanze fino a 500 metri e 1000 euro per distanze superiori. Ricevuti in input la misura della superficie dell'appartamento in mq. e la distanza dal mare, calcolarne il prezzo."
   ]
  },
  {
   "cell_type": "code",
   "execution_count": 10,
   "metadata": {},
   "outputs": [
    {
     "name": "stdout",
     "output_type": "stream",
     "text": [
      "superficie: 100\n",
      "distanza dal mare: 300\n",
      "prezzo:  150000.0\n"
     ]
    }
   ],
   "source": [
    "mq = float(input('superficie: '))\n",
    "d = int(input('distanza dal mare: '))\n",
    "if d < 200:\n",
    "    prezzo = mq * 1800\n",
    "elif d <= 500:\n",
    "    prezzo = mq * 1500\n",
    "else:\n",
    "    prezzo = mq * 1000\n",
    "print('prezzo: ',prezzo)"
   ]
  },
  {
   "cell_type": "markdown",
   "metadata": {},
   "source": [
    "### esercizio\n",
    "richiedere un valore intero nell'intervallo [10,20] e se non è corretto continuare a richierlo\n",
    "poi visualizzare se è pari o dispari"
   ]
  },
  {
   "cell_type": "code",
   "execution_count": 16,
   "metadata": {},
   "outputs": [
    {
     "name": "stdout",
     "output_type": "stream",
     "text": [
      "valore intero nell'intervallo [10,20]12\n",
      "pari\n"
     ]
    }
   ],
   "source": [
    "n = int(input(\"valore intero nell'intervallo [10,20]\"))\n",
    "while n < 10 or n > 20:     # valore non corretto\n",
    "    print('pirla!')\n",
    "    n = int(input(\"valore intero nell'intervallo [10,20]\"))\n",
    "if n % 2 == 0:\n",
    "    print('pari')\n",
    "else:\n",
    "    print('dispari')"
   ]
  },
  {
   "cell_type": "markdown",
   "metadata": {},
   "source": [
    "### esercizio\n",
    "Richiedere in input un numero intero positivo (se il numero non è positivo richiederlo nuovamente) e visualizzare tutti i suoi divisori."
   ]
  },
  {
   "cell_type": "code",
   "execution_count": 9,
   "metadata": {},
   "outputs": [
    {
     "name": "stdout",
     "output_type": "stream",
     "text": [
      "valore intero positivo: 88\n",
      "88 è divisibile per 1\n",
      "88 è divisibile per 2\n",
      "88 è divisibile per 4\n",
      "88 è divisibile per 8\n",
      "88 è divisibile per 11\n",
      "88 è divisibile per 22\n",
      "88 è divisibile per 44\n",
      "88 è divisibile per 88\n"
     ]
    }
   ],
   "source": [
    "n = int(input('valore intero positivo: '))\n",
    "while n <= 0:\n",
    "    n = int(input('valore intero positivo: '))\n",
    "div = 1      # possibile divisore\n",
    "while div <= n/2:\n",
    "    if n % div == 0:\n",
    "        print(n,'è divisibile per',div)\n",
    "    div += 1\n",
    "print(n,'è divisibile per',n)"
   ]
  },
  {
   "cell_type": "markdown",
   "metadata": {},
   "source": [
    "### esercizio\n",
    "Ricevere in input il valore n compreso fra 2 e 20 e visualizzare il valore di tutte le n potenze di 2 "
   ]
  },
  {
   "cell_type": "code",
   "execution_count": 11,
   "metadata": {},
   "outputs": [
    {
     "name": "stdout",
     "output_type": "stream",
     "text": [
      "valore nell'intervallo [2,20]: 1\n",
      "valore nell'intervallo [2,20]: 22\n",
      "valore nell'intervallo [2,20]: 8\n",
      "2\n",
      "4\n",
      "8\n",
      "16\n",
      "32\n",
      "64\n",
      "128\n",
      "256\n"
     ]
    }
   ],
   "source": [
    "n = int(input(\"valore nell'intervallo [2,20]: \"))\n",
    "while n < 2 or n > 20:\n",
    "    n = int(input(\"valore nell'intervallo [2,20]: \"))\n",
    "p = 1       # potenza\n",
    "while p <= n:\n",
    "    print(2 ** p)\n",
    "    p += 1"
   ]
  },
  {
   "cell_type": "markdown",
   "metadata": {},
   "source": [
    "### esercizio\n",
    "Si riceve come dato d'ingresso una sequenza di numeri interi, i numeri sono al massimo 10, non è conosciuta a priori la lunghezza di questa sequenza che termina o al raggiungimento del decimo valore o quando viene inserito il valore 0. Al termine dell’input si visualizzi la media aritmetica dei valori inseriti (non si consideri il valore 0 finale)."
   ]
  },
  {
   "cell_type": "code",
   "execution_count": 13,
   "metadata": {},
   "outputs": [
    {
     "name": "stdout",
     "output_type": "stream",
     "text": [
      "valore (0 per terminare): 3\n",
      "valore (0 per terminare): 4\n",
      "valore (0 per terminare): 5\n",
      "valore (0 per terminare): 6\n",
      "valore (0 per terminare): 7\n",
      "valore (0 per terminare): 8\n",
      "valore (0 per terminare): 9\n",
      "valore (0 per terminare): 10\n",
      "valore (0 per terminare): 11\n",
      "valore (0 per terminare): 12\n",
      "media:  7.5\n"
     ]
    }
   ],
   "source": [
    "n = int(input('valore (0 per terminare): '))\n",
    "c = 1           # numeri inseriti\n",
    "somma = n\n",
    "while n != 0 and c < 10:\n",
    "    n = int(input('valore (0 per terminare): '))\n",
    "    somma += n\n",
    "    if n != 0:\n",
    "        c += 1\n",
    "print('media: ',somma/c)"
   ]
  },
  {
   "cell_type": "markdown",
   "metadata": {},
   "source": [
    "### esercizio\n",
    "Richiedere un numero intero, stabilire se questo è primo (Suggerimento: sfruttare un esercizio precedente)\n",
    "Utilizzare il programma per rispondere alla seguente domanda: quali dei seguenti numeri sono primi? \n",
    "96553  15983567 17 \t(Risposta: il primo e il terzo)"
   ]
  },
  {
   "cell_type": "code",
   "execution_count": 18,
   "metadata": {},
   "outputs": [
    {
     "name": "stdout",
     "output_type": "stream",
     "text": [
      "valore intero positivo: 17\n",
      "17 è un numero primo\n"
     ]
    }
   ],
   "source": [
    "n = int(input('valore intero positivo: '))\n",
    "while n <= 0:\n",
    "    n = int(input('valore intero positivo: '))\n",
    "primo = True          # per il momento il numero è primo\n",
    "div = 2               # primo divisore\n",
    "while div <= n / 2 and primo:\n",
    "    if n % div == 0:\n",
    "        primo = False\n",
    "    div += 1\n",
    "if primo:\n",
    "    print(n,'è un numero primo')\n",
    "else:\n",
    "    print(n,'non è un numero primo')"
   ]
  },
  {
   "cell_type": "markdown",
   "metadata": {},
   "source": [
    "### esercizio\n",
    "Sostituire tutte le vocali minuscole con '*' in una stringa ricevuta in input (utilizzare una funzione)"
   ]
  },
  {
   "cell_type": "code",
   "execution_count": 31,
   "metadata": {},
   "outputs": [
    {
     "name": "stdout",
     "output_type": "stream",
     "text": [
      "stringa: ciao\n",
      "c***\n"
     ]
    }
   ],
   "source": [
    "def togliVocali(s: str) -> str:\n",
    "    ''' restituisce s son * al posto delle vocali minuscole '''\n",
    "    s = s.replace('a','*')\n",
    "    s = s.replace('e','*')\n",
    "    s = s.replace('i','*')    \n",
    "    s = s.replace('o','*')\n",
    "    s = s.replace('u','*')\n",
    "    return s\n",
    "\n",
    "parola = input('stringa: ')\n",
    "parola = togliVocali(parola)\n",
    "print(parola)"
   ]
  },
  {
   "cell_type": "code",
   "execution_count": null,
   "metadata": {},
   "outputs": [],
   "source": []
  }
 ],
 "metadata": {
  "kernelspec": {
   "display_name": "Python 3",
   "language": "python",
   "name": "python3"
  },
  "language_info": {
   "codemirror_mode": {
    "name": "ipython",
    "version": 3
   },
   "file_extension": ".py",
   "mimetype": "text/x-python",
   "name": "python",
   "nbconvert_exporter": "python",
   "pygments_lexer": "ipython3",
   "version": "3.8.5"
  }
 },
 "nbformat": 4,
 "nbformat_minor": 4
}
